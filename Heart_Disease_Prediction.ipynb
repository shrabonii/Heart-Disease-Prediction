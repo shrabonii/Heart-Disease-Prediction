{
  "nbformat": 4,
  "nbformat_minor": 0,
  "metadata": {
    "colab": {
      "provenance": []
    },
    "kernelspec": {
      "name": "python3",
      "display_name": "Python 3"
    },
    "language_info": {
      "name": "python"
    }
  },
  "cells": [
    {
      "cell_type": "code",
      "execution_count": 1,
      "metadata": {
        "colab": {
          "base_uri": "https://localhost:8080/"
        },
        "id": "e6TOMoGn9uT9",
        "outputId": "94532efa-e1ab-4773-a799-e7e8734448df"
      },
      "outputs": [
        {
          "output_type": "stream",
          "name": "stdout",
          "text": [
            "Mounted at /content/drive\n"
          ]
        }
      ],
      "source": [
        "from google.colab import drive\n",
        "drive.mount('/content/drive')"
      ]
    },
    {
      "cell_type": "code",
      "source": [
        "!ls \"/content/drive/My Drive/Datasets\""
      ],
      "metadata": {
        "colab": {
          "base_uri": "https://localhost:8080/"
        },
        "id": "kupIqpUN972h",
        "outputId": "d4a784a4-97b4-4f06-f2e5-050378118256"
      },
      "execution_count": 2,
      "outputs": [
        {
          "output_type": "stream",
          "name": "stdout",
          "text": [
            "heart.csv\n"
          ]
        }
      ]
    },
    {
      "cell_type": "code",
      "source": [
        "%cd /content/drive/My\\ Drive/Datasets"
      ],
      "metadata": {
        "colab": {
          "base_uri": "https://localhost:8080/"
        },
        "id": "mYe1AOhs-A_q",
        "outputId": "1cfc9ee8-6aa6-478a-dba9-5a173cf40c98"
      },
      "execution_count": 3,
      "outputs": [
        {
          "output_type": "stream",
          "name": "stdout",
          "text": [
            "/content/drive/My Drive/Datasets\n"
          ]
        }
      ]
    },
    {
      "cell_type": "markdown",
      "source": [
        "Classification approach using decision tree classifier.\n"
      ],
      "metadata": {
        "id": "-tg8YKkfEDkX"
      }
    },
    {
      "cell_type": "code",
      "source": [
        "import pandas as pd\n",
        "import numpy as np\n",
        "from sklearn.model_selection import train_test_split\n",
        "from sklearn.tree import DecisionTreeClassifier\n",
        "from sklearn.metrics import accuracy_score\n",
        "\n",
        "# Reading the dataset\n",
        "dataset = pd.read_csv('heart.csv')\n",
        "\n",
        "# Dataset splits into training and test samples\n",
        "X = dataset.iloc[:, :-1].values\n",
        "y = dataset.iloc[:, -1].values\n",
        "X_train, X_test, y_train, y_test = train_test_split(X, y, test_size=0.2, random_state=42)\n",
        "# Training the decision tree model\n",
        "classifier = DecisionTreeClassifier(random_state=42)\n",
        "classifier.fit(X_train, y_train)\n",
        "\n",
        "# Assesing the prediction accuracy\n",
        "y_pred = classifier.predict(X_test)\n",
        "accuracy = accuracy_score(y_test, y_pred)\n",
        "print('Accuracy:', accuracy)\n"
      ],
      "metadata": {
        "colab": {
          "base_uri": "https://localhost:8080/"
        },
        "id": "GttbpOm--G6i",
        "outputId": "8c37b53e-131e-4055-94af-dbd4e819a68d"
      },
      "execution_count": 29,
      "outputs": [
        {
          "output_type": "stream",
          "name": "stdout",
          "text": [
            "Accuracy: 0.9853658536585366\n"
          ]
        }
      ]
    },
    {
      "cell_type": "code",
      "source": [
        "# Sample input values\n",
        "age = int(input('Enter age (29-77): '))\n",
        "sex = int(input('Enter sex (0-1): '))\n",
        "\n",
        "cp = int(input('Enter cp (0-3): '))\n",
        "trestbps = int(input('Enter trestbps (94-200): '))\n",
        "chol = int(input('Enter chol (126-564): '))\n",
        "fbs = int(input('Enter fbs (0-1): '))\n",
        "\n",
        "restecg = int(input('Enter restecg (0-2): '))\n",
        "thalach = int(input('Enter thalach (71-202): '))\n",
        "exang = int(input('Enter exang (0-1): '))\n",
        "oldpeak = float(input('Enter oldpeak (0-6.2): '))\n",
        "\n",
        "slope = int(input('Enter slope (0-2): '))\n",
        "ca = int(input('Enter ca (0-3): '))\n",
        "\n",
        "thal = int(input('Enter thal (1-3): '))\n",
        "# Prediction using the trained model\n",
        "input_values = np.array([[age, sex, cp, trestbps, chol, fbs, restecg, thalach, exang, oldpeak, slope, ca, thal]])\n",
        "prediction = classifier.predict_proba(input_values)[0][1] * 100\n",
        "print(f'Based on the provided information, there is a {prediction:.2f}% chance of having heart disease.')\n",
        "0"
      ],
      "metadata": {
        "colab": {
          "base_uri": "https://localhost:8080/"
        },
        "id": "ycPV9i4s-PEA",
        "outputId": "ca733f52-3460-418f-dbf6-0cf917ed9711"
      },
      "execution_count": 11,
      "outputs": [
        {
          "output_type": "stream",
          "name": "stdout",
          "text": [
            "Enter age (29-77): 55\n",
            "Enter sex (0-1): 1\n",
            "Enter cp (0-3): 1\n",
            "Enter trestbps (94-200): 140\n",
            "Enter chol (126-564): 260\n",
            "Enter fbs (0-1): 0\n",
            "Enter restecg (0-2): 1\n",
            "Enter thalach (71-202): 120\n",
            "Enter exang (0-1): 0\n",
            "Enter oldpeak (0-6.2): 1.5\n",
            "Enter slope (0-2): 1\n",
            "Enter ca (0-3): 0\n",
            "Enter thal (1-3): 2\n",
            "Based on the provided information, there is a 100.00% chance of having heart disease.\n"
          ]
        },
        {
          "output_type": "execute_result",
          "data": {
            "text/plain": [
              "0"
            ]
          },
          "metadata": {},
          "execution_count": 11
        }
      ]
    },
    {
      "cell_type": "markdown",
      "source": [
        "Probabilistic classifier approach using logistic regression."
      ],
      "metadata": {
        "id": "lTGrZjJ2Eli5"
      }
    },
    {
      "cell_type": "code",
      "source": [
        "import numpy as np\n",
        "from sklearn.preprocessing import MinMaxScaler\n",
        "\n",
        "# Load the dataset\n",
        "df = pd.read_csv('heart.csv')\n",
        "\n",
        "# Preprocess the data\n",
        "scaler = MinMaxScaler(feature_range=(0, 1))\n",
        "scaler.fit(df.drop('target', axis=1))\n",
        "X = scaler.transform(df.drop('target', axis=1))\n",
        "X = pd.DataFrame(X, columns=df.columns[:-1])\n",
        "y = df['target']\n",
        "\n",
        "# Train the model\n",
        "clf = LogisticRegression()\n",
        "clf.fit(X, y)\n",
        "\n",
        "# Prepare a single sample for prediction\n",
        "sample = np.array([[58, 0, 1, 140, 260, 0, 1, 120, 0, 1.5, 1, 0, 2]])\n",
        "sample = pd.DataFrame(sample, columns=df.columns[:-1])\n",
        "sample = scaler.transform(sample)\n",
        "sample = pd.DataFrame(sample, columns=df.columns[:-1])\n",
        "# Predict the probability of disease confirmation\n",
        "prob = clf.predict_proba(sample)[0][1]\n",
        "print(f\"The probability of disease confirmation is {prob:.2f}\")\n"
      ],
      "metadata": {
        "colab": {
          "base_uri": "https://localhost:8080/"
        },
        "id": "xhTfoAiCDJbO",
        "outputId": "6a23c992-0f08-4419-a5b9-45c44c4dccae"
      },
      "execution_count": 28,
      "outputs": [
        {
          "output_type": "stream",
          "name": "stdout",
          "text": [
            "The probability of disease confirmation is 0.78\n"
          ]
        }
      ]
    },
    {
      "cell_type": "code",
      "source": [
        "# Take user inputs for the 13 features\n",
        "age = float(input(\"Enter age (between 29 and 77): \"))\n",
        "sex = float(input(\"Enter sex (0 for female, 1 for male): \"))\n",
        "cp = float(input(\"Enter cp (chest pain type, between 0 and 3): \"))\n",
        "trestbps = float(input(\"Enter trestbps (resting blood pressure, between 94 and 200): \"))\n",
        "chol = float(input(\"Enter chol (serum cholesterol, between 126 and 564): \"))\n",
        "fbs = float(input(\"Enter fbs (fasting blood sugar, 0 or 1): \"))\n",
        "restecg = float(input(\"Enter restecg (resting electrocardiographic results, between 0 and 2): \"))\n",
        "thalach = float(input(\"Enter thalach (maximum heart rate achieved, between 71 and 202): \"))\n",
        "exang = float(input(\"Enter exang (exercise induced angina, 0 or 1): \"))\n",
        "oldpeak = float(input(\"Enter oldpeak (ST depression induced by exercise relative to rest, between 0 and 6.2): \"))\n",
        "slope = float(input(\"Enter slope (the slope of the peak exercise ST segment, between 0 and 2): \"))\n",
        "ca = float(input(\"Enter ca (number of major vessels colored by fluoroscopy, between 0 and 3): \"))\n",
        "thal = float(input(\"Enter thal (3 = normal; 6 = fixed defect; 7 = reversable defect): \"))\n",
        "\n",
        "# Prepare a single sample for prediction\n",
        "sample = np.array([[age, sex, cp, trestbps, chol, fbs, restecg, thalach, exang, oldpeak, slope, ca, thal]])\n",
        "sample = pd.DataFrame(sample, columns=df.columns[:-1])\n",
        "sample = scaler.transform(sample)\n",
        "sample = pd.DataFrame(sample, columns=df.columns[:-1])\n",
        "# Predict the probability of disease confirmation\n",
        "prob = clf.predict_proba(sample)[0][1]\n",
        "print(f\"The probability of disease confirmation is {prob:.2f}\")\n"
      ],
      "metadata": {
        "colab": {
          "base_uri": "https://localhost:8080/"
        },
        "id": "7cB_cjkcFOdP",
        "outputId": "60fc5986-28de-4ea6-b65d-f1a164b157a5"
      },
      "execution_count": 30,
      "outputs": [
        {
          "output_type": "stream",
          "name": "stdout",
          "text": [
            "Enter age (between 29 and 77): 56\n",
            "Enter sex (0 for female, 1 for male): 1\n",
            "Enter cp (chest pain type, between 0 and 3): 0\n",
            "Enter trestbps (resting blood pressure, between 94 and 200): 95\n",
            "Enter chol (serum cholesterol, between 126 and 564): 127\n",
            "Enter fbs (fasting blood sugar, 0 or 1): 1\n",
            "Enter restecg (resting electrocardiographic results, between 0 and 2): 1\n",
            "Enter thalach (maximum heart rate achieved, between 71 and 202): 102\n",
            "Enter exang (exercise induced angina, 0 or 1): 0\n",
            "Enter oldpeak (ST depression induced by exercise relative to rest, between 0 and 6.2): 4.5\n",
            "Enter slope (the slope of the peak exercise ST segment, between 0 and 2): 1\n",
            "Enter ca (number of major vessels colored by fluoroscopy, between 0 and 3): 1\n",
            "Enter thal (3 = normal; 6 = fixed defect; 7 = reversable defect): 6\n",
            "The probability of disease confirmation is 0.01\n"
          ]
        }
      ]
    }
  ]
}